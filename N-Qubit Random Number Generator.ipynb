{
 "cells": [
  {
   "cell_type": "markdown",
   "metadata": {},
   "source": [
    "# N-Qubit Random Number Generator"
   ]
  },
  {
   "cell_type": "markdown",
   "metadata": {},
   "source": [
    "We start by importing the necessary modules from qiskit."
   ]
  },
  {
   "cell_type": "code",
   "execution_count": null,
   "metadata": {},
   "outputs": [],
   "source": [
    "#importing the necessary modules\n",
    "rom qiskit import QuantumRegister, ClassicalRegister, QuantumCircuit, execute,IBMQ    #used to build circuit and execute it\n",
    "from qiskit.tools.monitor import job_monitor                                          #used to obtain results from the simulator"
   ]
  },
  {
   "cell_type": "code",
   "execution_count": null,
   "metadata": {},
   "outputs": [],
   "source": [
    "We connect to simulator using API token"
   ]
  },
  {
   "cell_type": "code",
   "execution_count": null,
   "metadata": {},
   "outputs": [],
   "source": [
    "API = input(\"ENTER API TOKEN\")\n",
    "IBMQ.enable_account(API)\n",
    "provider = IBMQ.get_provider(hub='ibm-q')"
   ]
  },
  {
   "cell_type": "markdown",
   "metadata": {},
   "source": [
    "Now we build our circuit using the quantum and classical registers from qiskit module. "
   ]
  },
  {
   "cell_type": "code",
   "execution_count": null,
   "metadata": {},
   "outputs": [],
   "source": [
    "N = input(\"Enter the number of qubits\")\n",
    "q = QuantumRegister(N,'q')\n",
    "c = ClassicalRegister(N,'c')\n",
    "quantum_circuit = QuantumCircuit(q,c)\n",
    "quantum_circuit.h(q)                          #Apply hadamard gate to all qubits\n",
    "quantum_circuit.measure(q,c)                  #Measure the qubits "
   ]
  },
  {
   "cell_type": "markdown",
   "metadata": {},
   "source": []
  },
  {
   "cell_type": "code",
   "execution_count": null,
   "metadata": {},
   "outputs": [],
   "source": [
    "#excecute the circuit formed in the simulator\n",
    "backend = provider.get_backend('ibmq_qasm_simulator')\n",
    "job_1 = execute(circuit, backend, shots=1)\n",
    "                 \n",
    "job_monitor(job_1)\n",
    "counts = job_1.result().get_counts()\n",
    "\n",
    "print('RESULT: ',counts,'\\n')"
   ]
  }
 ],
 "metadata": {
  "kernelspec": {
   "display_name": "Python 3",
   "language": "python",
   "name": "python3"
  },
  "language_info": {
   "codemirror_mode": {
    "name": "ipython",
    "version": 3
   },
   "file_extension": ".py",
   "mimetype": "text/x-python",
   "name": "python",
   "nbconvert_exporter": "python",
   "pygments_lexer": "ipython3",
   "version": "3.8.5"
  }
 },
 "nbformat": 4,
 "nbformat_minor": 4
}
