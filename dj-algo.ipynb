{
 "cells": [
  {
   "cell_type": "markdown",
   "metadata": {},
   "source": [
    "# Deutsch-Jozsa Algorithm"
   ]
  },
  {
   "cell_type": "markdown",
   "metadata": {},
   "source": [
    "## Problem statement \n",
    "We are given a hidden Boolean function $ f $ , which takes as input a string of bits, and returns either 0 or 1, that is: $ f({x0,x1,x2,...xn})→0 $ or 1, where x is 0 or 1. The property of the given Boolean function is that it is guaranteed to either be balanced or constant. A constant function returns all 0's or all 1's for any input, while a balanced function returns 0's for exactly half of all inputs and 1's for the other half. Our task is to determine whether the given function is balanced or constant."
   ]
  },
  {
   "cell_type": "markdown",
   "metadata": {},
   "source": [
    "## SOLUTION\n",
    "This problem has two solutions classical and quantum."
   ]
  },
  {
   "cell_type": "markdown",
   "metadata": {},
   "source": [
    "### 1. Classical solution -\n",
    "Given: 1. The function gives one or zero as the output.\n",
    "       2. The function is either balanced or constant.\n",
    "We proceed to check the inputs and outputs.\n",
    "The input is an n-bit string, thats a constant in our problem. \n",
    "So the possible input are 2^n as each term in the n-bit string gets a choice to be either 1 or 0.\n",
    "\n",
    "We have no choice but to go ahead with a brute force attack. We have to try at most 2^(n-1)+1 in the unlucky scenario that we receive a constant answer 1 or 0 to the first half of the input set, and then need to check one more input to deide weather this is balanced or constant. If we are fortunate we may encounter two different outputs in the first two inputs only, and find the function is balanced."
   ]
  },
  {
   "cell_type": "code",
   "execution_count": 4,
   "metadata": {},
   "outputs": [
    {
     "name": "stdout",
     "output_type": "stream",
     "text": [
      "Enter an even value6\n",
      "Enter 1 for constant and 2 for balanced.2\n"
     ]
    }
   ],
   "source": [
    "inp = int(input(\"Enter an even value \"))        #taking the number n\n",
    "inp_2 = input(\"Enter 1 for constant and 2 for balanced- \") #The user chooses the type of function we are required to make\n",
    "output =[]"
   ]
  },
  {
   "cell_type": "code",
   "execution_count": 5,
   "metadata": {},
   "outputs": [
    {
     "name": "stdout",
     "output_type": "stream",
     "text": [
      "Please enter the locations were the function gives 0. \n",
      " Else enter -1 to get default worst-case scenario-1\n",
      "[0, 0, 0, 1, 1, 1]\n"
     ]
    }
   ],
   "source": [
    "if inp_2 == \"1\":\n",
    "  \n",
    "    i = input(\"Enter the answer the constant function gives - \")\n",
    "    output = [i for x in range(inp)]\n",
    "else:\n",
    "    #constructing virtual oracle\n",
    "    balance = input(\"Please enter the locations were the function gives 0. \\n Else enter -1 to get default worst-case scenario\")\n",
    "    if balance != \"-1\":\n",
    "        output = [0 if i in balance.split() else 1  for i in range(n)]\n",
    "    else: \n",
    "        output = [0 if i<inp//2 else 1  for i in range(inp)]\n",
    "print(output)"
   ]
  },
  {
   "cell_type": "code",
   "execution_count": 6,
   "metadata": {},
   "outputs": [
    {
     "name": "stdout",
     "output_type": "stream",
     "text": [
      "The function is balanced\n"
     ]
    }
   ],
   "source": [
    "#implementing the algorithm to check for balanced or constant\n",
    "x,flag = str(output[0]),True\n",
    "for i in output:\n",
    "    if x != i:\n",
    "        print(\"The function is balanced\")\n",
    "        flag = False\n",
    "        break\n",
    "    else:\n",
    "        x = i\n",
    "if flag:\n",
    "     print(\"The function is constant\") "
   ]
  },
  {
   "cell_type": "markdown",
   "metadata": {},
   "source": [
    "### Quantum Solution - \n",
    "\n",
    "The quantum solution gives required result in one iteration only. \n",
    "\n"
   ]
  },
  {
   "cell_type": "markdown",
   "metadata": {},
   "source": [
    "We start by creating a constant oracle, length of whose string is entered by user"
   ]
  },
  {
   "cell_type": "code",
   "execution_count": null,
   "metadata": {},
   "outputs": [],
   "source": [
    "n = input()\n",
    "\n",
    "constant_oracle = QuantumCircuit(n+1)\n",
    "\n",
    "output = np.random.randint(2)\n",
    "if output == 1:\n",
    "    constant_oracle.x(n)\n",
    "\n",
    "constant_oracle.draw()"
   ]
  },
  {
   "cell_type": "markdown",
   "metadata": {},
   "source": [
    "Now we create a balanced oracle. We can create a balanced oracle by using the CNOT gates. We can replicate the behaviour by taking each input qubit as a control and treating the output bit as the target.\n",
    "We can vary the input states that give 0 or 1 by wrapping some of the controls in X-gates."
   ]
  },
  {
   "cell_type": "code",
   "execution_count": null,
   "metadata": {},
   "outputs": [],
   "source": [
    "balanced_oracle = QuantumCircuit(n+1)\n",
    "balanced_string = input(\"Enter the n-bit string\")\n",
    "\n",
    "#We place the gates\n",
    "for qubit in range(len(b_str)):\n",
    "    if balanced_string[qubit] == '1':                         \n",
    "        balanced_oracle.x(qubit)\n",
    "balanced_oracle.draw()\n",
    "\n",
    "# WE use the barrier as divider\n",
    "balanced_oracle.barrier()\n",
    "\n",
    "# placing the controlled-NOT gates\n",
    "for qubit in range(n):\n",
    "    balanced_oracle.cx(qubit, n)\n",
    "\n",
    "# placing barrier \n",
    "balanced_oracle.barrier()\n",
    "\n",
    "# Place X-gates\n",
    "for qubit in range(len(b_str)):\n",
    "    if b_str[qubit] == '1':\n",
    "        balanced_oracle.x(qubit)\n",
    "\n",
    "#Placing barrier\n",
    "balanced_oracle.barrier()        \n",
    "        \n",
    "# Show oracle\n",
    "balanced_oracle.draw()"
   ]
  },
  {
   "cell_type": "markdown",
   "metadata": {},
   "source": [
    " Now, we initialize the input qubits in the state |+⟩ and the output qubit in the state |−⟩."
   ]
  },
  {
   "cell_type": "code",
   "execution_count": null,
   "metadata": {},
   "outputs": [],
   "source": [
    "dj_circuit = QuantumCircuit(n+1, n)\n",
    "\n",
    "# Apply H-gates\n",
    "for qubit in range(n):\n",
    "    dj_circuit.h(qubit)\n",
    "\n",
    "# Put qubit in state |->\n",
    "dj_circuit.x(n)\n",
    "dj_circuit.h(n)\n",
    "dj_circuit.draw()\n",
    "\n",
    "#Add oracle\n",
    "dj_circuit += balanced_oracle\n",
    "dj_circuit.draw()"
   ]
  },
  {
   "cell_type": "markdown",
   "metadata": {},
   "source": [
    "Lastly, we perform H-gates on the n-input qubits before measure the input register."
   ]
  },
  {
   "cell_type": "code",
   "execution_count": null,
   "metadata": {},
   "outputs": [],
   "source": [
    "#Placing the H-gates\n",
    "for qubit in range(n):\n",
    "    dj_circuit.h(qubit)\n",
    "dj_circuit.barrier()\n",
    "\n",
    "#Measuring the qubits\n",
    "for i in range(n):\n",
    "    dj_circuit.measure(i, i)\n",
    "\n",
    "#Displaying the circuit\n",
    "dj_circuit.draw()"
   ]
  }
 ],
 "metadata": {
  "kernelspec": {
   "display_name": "Python 3",
   "language": "python",
   "name": "python3"
  },
  "language_info": {
   "codemirror_mode": {
    "name": "ipython",
    "version": 3
   },
   "file_extension": ".py",
   "mimetype": "text/x-python",
   "name": "python",
   "nbconvert_exporter": "python",
   "pygments_lexer": "ipython3",
   "version": "3.8.5"
  }
 },
 "nbformat": 4,
 "nbformat_minor": 4
}
