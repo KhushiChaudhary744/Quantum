{
 "cells": [
  {
   "cell_type": "markdown",
   "metadata": {},
   "source": [
    "# General implementation of Simon's Algorithm\n",
    "\n",
    "Simon's Algorithm might not be as famous as Shor's algorithm or Grover's algorithm but this was one of the first algorithm and helped to give shape to quantum computing. Shor's algorithm is based on Simon's to an extent."
   ]
  },
  {
   "cell_type": "markdown",
   "metadata": {},
   "source": [
    "## Question Statement -  \n",
    "\n",
    "   Let f be a function \n",
    "   $ f : {0, 1}^n −→ {0, 1}^n $\n",
    "   such that, for all x, y ∈ ${0, 1}^n$, f(x) = f(y) ⇐⇒ x = y ⊕ s. (11.2)\n",
    "   Here, $ s ∈ {0, 1}^n $ is a “secret string” for the function and ⊕ denotes bitwise addition module two. Simon’s problem is to find s by querying f (as few times as possible)."
   ]
  },
  {
   "cell_type": "markdown",
   "metadata": {},
   "source": [
    "### SOLUTION -  "
   ]
  },
  {
   "cell_type": "markdown",
   "metadata": {},
   "source": [
    "*Step 1* - Importing necessary files and modules."
   ]
  },
  {
   "cell_type": "code",
   "execution_count": null,
   "metadata": {},
   "outputs": [],
   "source": [
    "from qiskit import IBMQ, Aer\n",
    "from qiskit.providers.ibmq import least_busy\n",
    "from qiskit import QuantumCircuit, execute, transpile, assemble\n",
    "from qiskit.visualization import plot_histogram\n",
    "from qiskit_textbook.tools import simon_oracle"
   ]
  },
  {
   "cell_type": "markdown",
   "metadata": {},
   "source": [
    "*Step 2 -* Taking in the input."
   ]
  },
  {
   "cell_type": "code",
   "execution_count": null,
   "metadata": {},
   "outputs": [],
   "source": [
    "inp = input(\"Enter the values to query: \")\n",
    "n = len(inp)"
   ]
  },
  {
   "cell_type": "markdown",
   "metadata": {},
   "source": [
    "*Step 3 -* Building the circuit.\n",
    "\n",
    "The quantum circuit used to solve the given statement is implemented using qiskit."
   ]
  },
  {
   "cell_type": "code",
   "execution_count": null,
   "metadata": {},
   "outputs": [],
   "source": [
    "#initializing the circuit\n",
    "qCircuit = QuantumCircuit(n*2, n)\n",
    "\n",
    "#Designing the circuit\n",
    "qCircuit.h(range(n))    \n",
    "qCircuit.barrier()\n",
    "qCircuit += simon_oracle(inp)\n",
    "qCircuit.barrier()\n",
    "qCircuit.h(range(n))\n",
    "\n",
    "# Measuring the qubits\n",
    "qCircuit.measure(range(n), range(n))\n",
    "\n",
    "#drawing the circuit\n",
    "qCircuit.draw()"
   ]
  },
  {
   "cell_type": "markdown",
   "metadata": {},
   "source": [
    "*Step 4 -* Display the final results"
   ]
  },
  {
   "cell_type": "code",
   "execution_count": null,
   "metadata": {},
   "outputs": [],
   "source": [
    "aer_sim = Aer.get_backend('aer_simulator')                 #calling the simulator\n",
    "qcbj = assemble(qCircuit, shots=1025)                      #specifying circuit name and number of jobs\n",
    "results = aer_sim.run(qcbj).result()                       #storing the results\n",
    "data = results.get_counts()                                #plotting the final result\n",
    "plot_histogram(data)"
   ]
  }
 ],
 "metadata": {
  "kernelspec": {
   "display_name": "Python 3",
   "language": "python",
   "name": "python3"
  },
  "language_info": {
   "codemirror_mode": {
    "name": "ipython",
    "version": 3
   },
   "file_extension": ".py",
   "mimetype": "text/x-python",
   "name": "python",
   "nbconvert_exporter": "python",
   "pygments_lexer": "ipython3",
   "version": "3.8.5"
  }
 },
 "nbformat": 4,
 "nbformat_minor": 4
}
